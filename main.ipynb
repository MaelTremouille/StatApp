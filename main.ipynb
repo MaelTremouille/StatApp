{
 "cells": [
  {
   "cell_type": "markdown",
   "metadata": {},
   "source": [
    "# Projet StatApp"
   ]
  },
  {
   "cell_type": "markdown",
   "metadata": {},
   "source": [
    "## Imports et requirements"
   ]
  },
  {
   "cell_type": "code",
   "execution_count": 1,
   "metadata": {},
   "outputs": [
    {
     "name": "stderr",
     "output_type": "stream",
     "text": [
      "C:\\Users\\trema\\AppData\\Local\\Packages\\PythonSoftwareFoundation.Python.3.11_qbz5n2kfra8p0\\LocalCache\\local-packages\\Python311\\site-packages\\tqdm\\auto.py:21: TqdmWarning: IProgress not found. Please update jupyter and ipywidgets. See https://ipywidgets.readthedocs.io/en/stable/user_install.html\n",
      "  from .autonotebook import tqdm as notebook_tqdm\n"
     ]
    }
   ],
   "source": [
    "from datasets import load_dataset\n",
    "import pickle\n",
    "import pandas as pd\n",
    "import sys\n",
    "import io\n",
    "import re\n",
    "import statistics as stats\n",
    "import matplotlib.pyplot as plt\n",
    "from PIL import Image\n",
    "from torch.utils.data import Dataset\n",
    "from torchvision import transforms\n",
    "from sklearn.preprocessing import LabelEncoder\n",
    "from torch.utils.data import DataLoader\n",
    "import torch\n",
    "import torch.optim as optim\n",
    "import torch.nn as nn\n",
    "import torch.nn.functional as F\n"
   ]
  },
  {
   "cell_type": "markdown",
   "metadata": {},
   "source": [
    "Forcer l'encodage en UTF-8 pour les caractères de l'alphabet grec."
   ]
  },
  {
   "cell_type": "code",
   "execution_count": 2,
   "metadata": {},
   "outputs": [],
   "source": [
    "# TODO problème à résoudre"
   ]
  },
  {
   "cell_type": "markdown",
   "metadata": {},
   "source": [
    "Stocker la BDD."
   ]
  },
  {
   "cell_type": "code",
   "execution_count": 3,
   "metadata": {},
   "outputs": [],
   "source": [
    "# ds = load_dataset(\"TEAMREBOOTT-AI/SciCap-MLBCAP\")"
   ]
  },
  {
   "cell_type": "markdown",
   "metadata": {},
   "source": [
    "Sauvegarder le dataset dans un fichier pickle"
   ]
  },
  {
   "cell_type": "code",
   "execution_count": 4,
   "metadata": {},
   "outputs": [],
   "source": [
    "# with open(\"dataset.pkl\", \"wb\") as f:\n",
    "#     pickle.dump(ds, f)"
   ]
  },
  {
   "cell_type": "markdown",
   "metadata": {},
   "source": [
    "Une fois cela fait, on ne travaille qu'à partir du dataset directement importé."
   ]
  },
  {
   "cell_type": "code",
   "execution_count": 5,
   "metadata": {},
   "outputs": [
    {
     "name": "stdout",
     "output_type": "stream",
     "text": [
      "Dataset({\n",
      "    features: ['image', 'id', 'figure_type', 'ocr', 'paragraph', 'mention', 'figure_description', 'mlbcap_long', 'mlbcap_short', 'categories'],\n",
      "    num_rows: 47639\n",
      "})\n"
     ]
    }
   ],
   "source": [
    "with open(\"dataset.pkl\", \"rb\") as f:\n",
    "    ds = pickle.load(f)\n",
    "\n",
    "data = ds[\"train\"]\n",
    "print(data)"
   ]
  },
  {
   "cell_type": "markdown",
   "metadata": {},
   "source": [
    "Il y a **47 639** observations."
   ]
  },
  {
   "cell_type": "markdown",
   "metadata": {},
   "source": [
    "Chargeons les données dans l'environnement."
   ]
  },
  {
   "cell_type": "code",
   "execution_count": 6,
   "metadata": {},
   "outputs": [],
   "source": [
    "# Récupérer l'image depuis l'ensemble de données\n"
   ]
  },
  {
   "cell_type": "markdown",
   "metadata": {},
   "source": [
    "Regardons de plus près une observation."
   ]
  },
  {
   "cell_type": "code",
   "execution_count": 21,
   "metadata": {},
   "outputs": [
    {
     "name": "stdout",
     "output_type": "stream",
     "text": [
      "image : <PIL.PngImagePlugin.PngImageFile image mode=RGB size=467x397 at 0x1C6E4C1B750>\n",
      "----------\n",
      "id : 511159285\n",
      "----------\n",
      "figure_type : Graph Plot\n",
      "----------\n",
      "ocr : [\"0.009_\", \"DMnF\", \"DoMi\", \"Om \"]\n",
      "----------\n",
      "paragraph : [\"Initially, the 32 atoms stay at their equilibrium position. We set the initial velocity so that the left-most atom has a large velocity towards right and other atoms have equal velocity towards left. The mean velocity is equal to 0, so the center of mass does not move. Fig. 8 shows the trajectory of positions of the first three atom from the left. We observe that the results from TRBOMD agree very well with the BOMD results with convergent SCF iterations. Let us note that in the simulation, the left-most atom crosses over the second left-most atom. This happens since in our model, we have taken a 1D analog of Coulomb interaction and the nuclei background charges are smeared out, and hence the interaction is \\\"soft\\\" without hard-core repulsion. In Fig. 9, we plot the difference between \\u03c1 SCF and the converged electron density of the SCF iteration (denoted by \\u03c1 KS ) along the TRBOMD simulation. We see that the electron density used in TRBOMD stays close to the ground state electron density corresponds to the atom configuration.\", \"To proceed, we consider the scenario that \\u03c1(t, \\u03c4 ) is close to the ground state electron density corresponding to the current atom configuration \\u03c1 * (R(t)). We have seen from numerical examples (Fig. 9) that this is indeed the case for a good choice of SCF iteration, while we do not have a proof of this in the general case. Hence, we linearize the map \\u03c1 SCF .\"]\n",
      "----------\n",
      "mention : [[\"In Fig. 9, we plot the difference between \\u03c1 SCF and the converged electron density of the SCF iteration (denoted by \\u03c1 KS ) along the TRBOMD simulation.\"], [\"We have seen from numerical examples (Fig. 9) that this is indeed the case for a good choice of SCF iteration, while we do not have a proof of this in the general case.\"]]\n",
      "----------\n",
      "figure_description : The graph shows the L1 norm of the difference between ρ_SCF(t) and ρ_KS over time (t). The x-axis represents time (t) ranging from 0 to 500,000, and the y-axis represents the L1 norm of the difference, ranging from 0 to 0.012. The plot indicates fluctuations in the difference over time, with occasional peaks.\n",
      "----------\n",
      "mlbcap_long : Fig. 9. L1 norm of the difference between ρ_SCF and converged electron density ρ_KS over time in TRBOMD simulation. The plot demonstrates that the electron density in TRBOMD remains close to the ground state density corresponding to the atom configuration, validating the accuracy of the TRBOMD approach.\n",
      "----------\n",
      "mlbcap_short : Fig. 9. L1 norm of the difference between ρ_SCF and ρ_KS over time in TRBOMD simulation, showing electron density remains close to ground state, validating TRBOMD accuracy.\n",
      "----------\n",
      "categories : math.NA,physics.chem-ph,physics.comp-ph\n",
      "----------\n"
     ]
    }
   ],
   "source": [
    "for k in data[0]:\n",
    "    print(f\"{k} : {data[0][k]}\")\n",
    "    print('-'*10)\n",
    "\n",
    "image = data[8\n",
    "][\"image\"]\n",
    "image.show()"
   ]
  },
  {
   "cell_type": "markdown",
   "metadata": {},
   "source": [
    "## Statistiques descriptives de la BDD"
   ]
  },
  {
   "cell_type": "markdown",
   "metadata": {},
   "source": [
    "### Type de figure"
   ]
  },
  {
   "cell_type": "markdown",
   "metadata": {},
   "source": [
    "Intéressons nous au type de figure, c'est sur cela que nous allons commencer par faire des CNN. Ils donnent déjà de bonnes informations sur la figure et permettent ce cibler des questions."
   ]
  },
  {
   "cell_type": "code",
   "execution_count": 8,
   "metadata": {},
   "outputs": [
    {
     "data": {
      "image/png": "[encoded data removed]",
      "text/plain": [
       "<Figure size 640x480 with 1 Axes>"
      ]
     },
     "metadata": {},
     "output_type": "display_data"
    }
   ],
   "source": [
    "train_dataset = ds[\"train\"] \n",
    "figure_type = list(set(train_dataset[\"figure_type\"]))\n",
    "dict_fig_type = dict()\n",
    "for fig_type in figure_type:\n",
    "    dict_fig_type[fig_type] = 0\n",
    "for elt in train_dataset[\"figure_type\"]:\n",
    "    dict_fig_type[elt] += 1\n",
    "\n",
    "# On affiche un barplot pour voir la répartition\n",
    "plt.bar(range(len(dict_fig_type)), list(dict_fig_type.values()), align='center')\n",
    "plt.xticks(range(len(dict_fig_type)), list(dict_fig_type.keys()))\n",
    "plt.show()"
   ]
  },
  {
   "cell_type": "code",
   "execution_count": 9,
   "metadata": {},
   "outputs": [
    {
     "name": "stdout",
     "output_type": "stream",
     "text": [
      "{'Equation': 3192, 'Node Diagram': 7215, 'Bar Chart': 3795, 'Scatterplot': 4161, 'Graph Plot': 29276}\n"
     ]
    }
   ],
   "source": [
    "print(dict_fig_type)"
   ]
  },
  {
   "cell_type": "code",
   "execution_count": 10,
   "metadata": {},
   "outputs": [
    {
     "data": {
      "text/plain": [
       "61.4538508364995"
      ]
     },
     "execution_count": 10,
     "metadata": {},
     "output_type": "execute_result"
    }
   ],
   "source": [
    "(29276/47639)*100"
   ]
  },
  {
   "cell_type": "markdown",
   "metadata": {},
   "source": [
    "On remarque que les 'Graph Plots' sont largement sur-représentés."
   ]
  },
  {
   "cell_type": "code",
   "execution_count": 11,
   "metadata": {},
   "outputs": [
    {
     "name": "stdout",
     "output_type": "stream",
     "text": [
      "1441\n",
      "957\n",
      "2543\n",
      "739\n",
      "1321\n",
      "1356\n",
      "2690\n",
      "631\n",
      "1171\n",
      "1179\n"
     ]
    }
   ],
   "source": [
    "# stats(data['paragraph'])\n",
    "for i in range(10):\n",
    "    print(len(list(data['paragraph'])[i]))\n"
   ]
  },
  {
   "cell_type": "markdown",
   "metadata": {},
   "source": [
    "### informations"
   ]
  },
  {
   "cell_type": "markdown",
   "metadata": {},
   "source": [
    "Pour chaque observation, nous disposons de différentes caractéristiques :\n",
    "\n",
    "id <br>\n",
    "figure_type <br>\n",
    "ocr <br>\n",
    "paragraph <br>\n",
    "mention <br>\n",
    "figure_description <br>\n",
    "figure_description <br>\n",
    "mlbcap_long <br>\n",
    "mlbcap_short <br>\n",
    "categories <br>\n",
    "\n",
    "Il s'agit de chaines de caractères, on peut s'intéresser au nombre de mots qu'elles contiennent."
   ]
  },
  {
   "cell_type": "code",
   "execution_count": 12,
   "metadata": {},
   "outputs": [
    {
     "name": "stdout",
     "output_type": "stream",
     "text": [
      "0.0 %\n"
     ]
    },
    {
     "ename": "KeyboardInterrupt",
     "evalue": "",
     "output_type": "error",
     "traceback": [
      "\u001b[1;31m---------------------------------------------------------------------------\u001b[0m",
      "\u001b[1;31mKeyboardInterrupt\u001b[0m                         Traceback (most recent call last)",
      "Cell \u001b[1;32mIn[12], line 7\u001b[0m\n\u001b[0;32m      4\u001b[0m liste_figure_description \u001b[38;5;241m=\u001b[39m []\n\u001b[0;32m      6\u001b[0m \u001b[38;5;28;01mfor\u001b[39;00m i \u001b[38;5;129;01min\u001b[39;00m \u001b[38;5;28mrange\u001b[39m(\u001b[38;5;241m500\u001b[39m): \u001b[38;5;66;03m# sinon beaucoup trop long\u001b[39;00m\n\u001b[1;32m----> 7\u001b[0m     paragraph \u001b[38;5;241m=\u001b[39m \u001b[38;5;28mlist\u001b[39m(\u001b[43mdata\u001b[49m\u001b[43m[\u001b[49m\u001b[38;5;124;43m'\u001b[39;49m\u001b[38;5;124;43mparagraph\u001b[39;49m\u001b[38;5;124;43m'\u001b[39;49m\u001b[43m]\u001b[49m)[i][\u001b[38;5;241m2\u001b[39m:\u001b[38;5;241m-\u001b[39m\u001b[38;5;241m2\u001b[39m]\n\u001b[0;32m      8\u001b[0m     mlbcap_long \u001b[38;5;241m=\u001b[39m \u001b[38;5;28mlist\u001b[39m(data[\u001b[38;5;124m'\u001b[39m\u001b[38;5;124mmlbcap_long\u001b[39m\u001b[38;5;124m'\u001b[39m])[i][\u001b[38;5;241m2\u001b[39m:\u001b[38;5;241m-\u001b[39m\u001b[38;5;241m2\u001b[39m]\n\u001b[0;32m      9\u001b[0m     mlbcap_short \u001b[38;5;241m=\u001b[39m \u001b[38;5;28mlist\u001b[39m(data[\u001b[38;5;124m'\u001b[39m\u001b[38;5;124mmlbcap_short\u001b[39m\u001b[38;5;124m'\u001b[39m])[i][\u001b[38;5;241m2\u001b[39m:\u001b[38;5;241m-\u001b[39m\u001b[38;5;241m2\u001b[39m]\n",
      "File \u001b[1;32m~\\AppData\\Local\\Packages\\PythonSoftwareFoundation.Python.3.11_qbz5n2kfra8p0\\LocalCache\\local-packages\\Python311\\site-packages\\datasets\\arrow_dataset.py:2777\u001b[0m, in \u001b[0;36mDataset.__getitem__\u001b[1;34m(self, key)\u001b[0m\n\u001b[0;32m   2775\u001b[0m \u001b[38;5;28;01mdef\u001b[39;00m \u001b[38;5;21m__getitem__\u001b[39m(\u001b[38;5;28mself\u001b[39m, key):  \u001b[38;5;66;03m# noqa: F811\u001b[39;00m\n\u001b[0;32m   2776\u001b[0m \u001b[38;5;250m    \u001b[39m\u001b[38;5;124;03m\"\"\"Can be used to index columns (by string names) or rows (by integer index or iterable of indices or bools).\"\"\"\u001b[39;00m\n\u001b[1;32m-> 2777\u001b[0m     \u001b[38;5;28;01mreturn\u001b[39;00m \u001b[38;5;28;43mself\u001b[39;49m\u001b[38;5;241;43m.\u001b[39;49m\u001b[43m_getitem\u001b[49m\u001b[43m(\u001b[49m\u001b[43mkey\u001b[49m\u001b[43m)\u001b[49m\n",
      "File \u001b[1;32m~\\AppData\\Local\\Packages\\PythonSoftwareFoundation.Python.3.11_qbz5n2kfra8p0\\LocalCache\\local-packages\\Python311\\site-packages\\datasets\\arrow_dataset.py:2762\u001b[0m, in \u001b[0;36mDataset._getitem\u001b[1;34m(self, key, **kwargs)\u001b[0m\n\u001b[0;32m   2760\u001b[0m formatter \u001b[38;5;241m=\u001b[39m get_formatter(format_type, features\u001b[38;5;241m=\u001b[39m\u001b[38;5;28mself\u001b[39m\u001b[38;5;241m.\u001b[39m_info\u001b[38;5;241m.\u001b[39mfeatures, \u001b[38;5;241m*\u001b[39m\u001b[38;5;241m*\u001b[39mformat_kwargs)\n\u001b[0;32m   2761\u001b[0m pa_subtable \u001b[38;5;241m=\u001b[39m query_table(\u001b[38;5;28mself\u001b[39m\u001b[38;5;241m.\u001b[39m_data, key, indices\u001b[38;5;241m=\u001b[39m\u001b[38;5;28mself\u001b[39m\u001b[38;5;241m.\u001b[39m_indices)\n\u001b[1;32m-> 2762\u001b[0m formatted_output \u001b[38;5;241m=\u001b[39m \u001b[43mformat_table\u001b[49m\u001b[43m(\u001b[49m\n\u001b[0;32m   2763\u001b[0m \u001b[43m    \u001b[49m\u001b[43mpa_subtable\u001b[49m\u001b[43m,\u001b[49m\u001b[43m \u001b[49m\u001b[43mkey\u001b[49m\u001b[43m,\u001b[49m\u001b[43m \u001b[49m\u001b[43mformatter\u001b[49m\u001b[38;5;241;43m=\u001b[39;49m\u001b[43mformatter\u001b[49m\u001b[43m,\u001b[49m\u001b[43m \u001b[49m\u001b[43mformat_columns\u001b[49m\u001b[38;5;241;43m=\u001b[39;49m\u001b[43mformat_columns\u001b[49m\u001b[43m,\u001b[49m\u001b[43m \u001b[49m\u001b[43moutput_all_columns\u001b[49m\u001b[38;5;241;43m=\u001b[39;49m\u001b[43moutput_all_columns\u001b[49m\n\u001b[0;32m   2764\u001b[0m \u001b[43m\u001b[49m\u001b[43m)\u001b[49m\n\u001b[0;32m   2765\u001b[0m \u001b[38;5;28;01mreturn\u001b[39;00m formatted_output\n",
      "File \u001b[1;32m~\\AppData\\Local\\Packages\\PythonSoftwareFoundation.Python.3.11_qbz5n2kfra8p0\\LocalCache\\local-packages\\Python311\\site-packages\\datasets\\formatting\\formatting.py:658\u001b[0m, in \u001b[0;36mformat_table\u001b[1;34m(table, key, formatter, format_columns, output_all_columns)\u001b[0m\n\u001b[0;32m    656\u001b[0m python_formatter \u001b[38;5;241m=\u001b[39m PythonFormatter(features\u001b[38;5;241m=\u001b[39mformatter\u001b[38;5;241m.\u001b[39mfeatures)\n\u001b[0;32m    657\u001b[0m \u001b[38;5;28;01mif\u001b[39;00m format_columns \u001b[38;5;129;01mis\u001b[39;00m \u001b[38;5;28;01mNone\u001b[39;00m:\n\u001b[1;32m--> 658\u001b[0m     \u001b[38;5;28;01mreturn\u001b[39;00m \u001b[43mformatter\u001b[49m\u001b[43m(\u001b[49m\u001b[43mpa_table\u001b[49m\u001b[43m,\u001b[49m\u001b[43m \u001b[49m\u001b[43mquery_type\u001b[49m\u001b[38;5;241;43m=\u001b[39;49m\u001b[43mquery_type\u001b[49m\u001b[43m)\u001b[49m\n\u001b[0;32m    659\u001b[0m \u001b[38;5;28;01melif\u001b[39;00m query_type \u001b[38;5;241m==\u001b[39m \u001b[38;5;124m\"\u001b[39m\u001b[38;5;124mcolumn\u001b[39m\u001b[38;5;124m\"\u001b[39m:\n\u001b[0;32m    660\u001b[0m     \u001b[38;5;28;01mif\u001b[39;00m key \u001b[38;5;129;01min\u001b[39;00m format_columns:\n",
      "File \u001b[1;32m~\\AppData\\Local\\Packages\\PythonSoftwareFoundation.Python.3.11_qbz5n2kfra8p0\\LocalCache\\local-packages\\Python311\\site-packages\\datasets\\formatting\\formatting.py:413\u001b[0m, in \u001b[0;36mFormatter.__call__\u001b[1;34m(self, pa_table, query_type)\u001b[0m\n\u001b[0;32m    411\u001b[0m     \u001b[38;5;28;01mreturn\u001b[39;00m \u001b[38;5;28mself\u001b[39m\u001b[38;5;241m.\u001b[39mformat_row(pa_table)\n\u001b[0;32m    412\u001b[0m \u001b[38;5;28;01melif\u001b[39;00m query_type \u001b[38;5;241m==\u001b[39m \u001b[38;5;124m\"\u001b[39m\u001b[38;5;124mcolumn\u001b[39m\u001b[38;5;124m\"\u001b[39m:\n\u001b[1;32m--> 413\u001b[0m     \u001b[38;5;28;01mreturn\u001b[39;00m \u001b[38;5;28;43mself\u001b[39;49m\u001b[38;5;241;43m.\u001b[39;49m\u001b[43mformat_column\u001b[49m\u001b[43m(\u001b[49m\u001b[43mpa_table\u001b[49m\u001b[43m)\u001b[49m\n\u001b[0;32m    414\u001b[0m \u001b[38;5;28;01melif\u001b[39;00m query_type \u001b[38;5;241m==\u001b[39m \u001b[38;5;124m\"\u001b[39m\u001b[38;5;124mbatch\u001b[39m\u001b[38;5;124m\"\u001b[39m:\n\u001b[0;32m    415\u001b[0m     \u001b[38;5;28;01mreturn\u001b[39;00m \u001b[38;5;28mself\u001b[39m\u001b[38;5;241m.\u001b[39mformat_batch(pa_table)\n",
      "File \u001b[1;32m~\\AppData\\Local\\Packages\\PythonSoftwareFoundation.Python.3.11_qbz5n2kfra8p0\\LocalCache\\local-packages\\Python311\\site-packages\\datasets\\formatting\\formatting.py:465\u001b[0m, in \u001b[0;36mPythonFormatter.format_column\u001b[1;34m(self, pa_table)\u001b[0m\n\u001b[0;32m    463\u001b[0m \u001b[38;5;28;01mdef\u001b[39;00m \u001b[38;5;21mformat_column\u001b[39m(\u001b[38;5;28mself\u001b[39m, pa_table: pa\u001b[38;5;241m.\u001b[39mTable) \u001b[38;5;241m-\u001b[39m\u001b[38;5;241m>\u001b[39m \u001b[38;5;28mlist\u001b[39m:\n\u001b[0;32m    464\u001b[0m     column \u001b[38;5;241m=\u001b[39m \u001b[38;5;28mself\u001b[39m\u001b[38;5;241m.\u001b[39mpython_arrow_extractor()\u001b[38;5;241m.\u001b[39mextract_column(pa_table)\n\u001b[1;32m--> 465\u001b[0m     column \u001b[38;5;241m=\u001b[39m \u001b[38;5;28;43mself\u001b[39;49m\u001b[38;5;241;43m.\u001b[39;49m\u001b[43mpython_features_decoder\u001b[49m\u001b[38;5;241;43m.\u001b[39;49m\u001b[43mdecode_column\u001b[49m\u001b[43m(\u001b[49m\u001b[43mcolumn\u001b[49m\u001b[43m,\u001b[49m\u001b[43m \u001b[49m\u001b[43mpa_table\u001b[49m\u001b[38;5;241;43m.\u001b[39;49m\u001b[43mcolumn_names\u001b[49m\u001b[43m[\u001b[49m\u001b[38;5;241;43m0\u001b[39;49m\u001b[43m]\u001b[49m\u001b[43m)\u001b[49m\n\u001b[0;32m    466\u001b[0m     \u001b[38;5;28;01mreturn\u001b[39;00m column\n",
      "File \u001b[1;32m~\\AppData\\Local\\Packages\\PythonSoftwareFoundation.Python.3.11_qbz5n2kfra8p0\\LocalCache\\local-packages\\Python311\\site-packages\\datasets\\formatting\\formatting.py:227\u001b[0m, in \u001b[0;36mPythonFeaturesDecoder.decode_column\u001b[1;34m(self, column, column_name)\u001b[0m\n\u001b[0;32m    224\u001b[0m \u001b[38;5;28;01mdef\u001b[39;00m \u001b[38;5;21mdecode_row\u001b[39m(\u001b[38;5;28mself\u001b[39m, row: \u001b[38;5;28mdict\u001b[39m) \u001b[38;5;241m-\u001b[39m\u001b[38;5;241m>\u001b[39m \u001b[38;5;28mdict\u001b[39m:\n\u001b[0;32m    225\u001b[0m     \u001b[38;5;28;01mreturn\u001b[39;00m \u001b[38;5;28mself\u001b[39m\u001b[38;5;241m.\u001b[39mfeatures\u001b[38;5;241m.\u001b[39mdecode_example(row, token_per_repo_id\u001b[38;5;241m=\u001b[39m\u001b[38;5;28mself\u001b[39m\u001b[38;5;241m.\u001b[39mtoken_per_repo_id) \u001b[38;5;28;01mif\u001b[39;00m \u001b[38;5;28mself\u001b[39m\u001b[38;5;241m.\u001b[39mfeatures \u001b[38;5;28;01melse\u001b[39;00m row\n\u001b[1;32m--> 227\u001b[0m \u001b[38;5;28;01mdef\u001b[39;00m \u001b[38;5;21mdecode_column\u001b[39m(\u001b[38;5;28mself\u001b[39m, column: \u001b[38;5;28mlist\u001b[39m, column_name: \u001b[38;5;28mstr\u001b[39m) \u001b[38;5;241m-\u001b[39m\u001b[38;5;241m>\u001b[39m \u001b[38;5;28mlist\u001b[39m:\n\u001b[0;32m    228\u001b[0m     \u001b[38;5;28;01mreturn\u001b[39;00m \u001b[38;5;28mself\u001b[39m\u001b[38;5;241m.\u001b[39mfeatures\u001b[38;5;241m.\u001b[39mdecode_column(column, column_name) \u001b[38;5;28;01mif\u001b[39;00m \u001b[38;5;28mself\u001b[39m\u001b[38;5;241m.\u001b[39mfeatures \u001b[38;5;28;01melse\u001b[39;00m column\n\u001b[0;32m    230\u001b[0m \u001b[38;5;28;01mdef\u001b[39;00m \u001b[38;5;21mdecode_batch\u001b[39m(\u001b[38;5;28mself\u001b[39m, batch: \u001b[38;5;28mdict\u001b[39m) \u001b[38;5;241m-\u001b[39m\u001b[38;5;241m>\u001b[39m \u001b[38;5;28mdict\u001b[39m:\n",
      "\u001b[1;31mKeyboardInterrupt\u001b[0m: "
     ]
    }
   ],
   "source": [
    "liste_sentence = []\n",
    "liste_mlbcap_short = []\n",
    "liste_mlbcap_long = []\n",
    "liste_figure_description = []\n",
    "\n",
    "for i in range(500): # sinon beaucoup trop long\n",
    "    paragraph = list(data['paragraph'])[i][2:-2]\n",
    "    mlbcap_long = list(data['mlbcap_long'])[i][2:-2]\n",
    "    mlbcap_short = list(data['mlbcap_short'])[i][2:-2]\n",
    "    # figure_description = list(data['figure_description'])[i][2:-2] NoneTypes issues\n",
    "    paragraph_splited = re.findall(r'\\w+', paragraph.lower())\n",
    "    mlbcap_long_splited = re.findall(r'\\w+', mlbcap_long.lower())\n",
    "    mlbcap_short_splited = re.findall(r'\\w+', mlbcap_short.lower())\n",
    "    figure_description_splited = re.findall(r'\\w+', mlbcap_short.lower())\n",
    "\n",
    "    # sentence_splited = sentence.split()\n",
    "    liste_sentence.append(len(paragraph_splited))\n",
    "    liste_mlbcap_long.append(len(mlbcap_long_splited))\n",
    "    liste_mlbcap_short.append(len(mlbcap_short_splited))\n",
    "    # liste_figure_description.append(len(figure_description_splited))\n",
    "    if i % 50 == 0:\n",
    "        print(f\"{100*i/500} %\")\n",
    "\n",
    "    "
   ]
  },
  {
   "cell_type": "code",
   "execution_count": null,
   "metadata": {},
   "outputs": [
    {
     "ename": "NameError",
     "evalue": "name 'liste_sentence' is not defined",
     "output_type": "error",
     "traceback": [
      "\u001b[1;31m---------------------------------------------------------------------------\u001b[0m",
      "\u001b[1;31mNameError\u001b[0m                                 Traceback (most recent call last)",
      "Cell \u001b[1;32mIn[1], line 1\u001b[0m\n\u001b[1;32m----> 1\u001b[0m boxplots \u001b[38;5;241m=\u001b[39m [\u001b[43mliste_sentence\u001b[49m, \n\u001b[0;32m      2\u001b[0m             \u001b[38;5;66;03m# liste_figure_description, \u001b[39;00m\n\u001b[0;32m      3\u001b[0m             liste_mlbcap_short, \n\u001b[0;32m      4\u001b[0m             liste_mlbcap_long]\n\u001b[0;32m      6\u001b[0m fig \u001b[38;5;241m=\u001b[39m plt\u001b[38;5;241m.\u001b[39mfigure(figsize\u001b[38;5;241m=\u001b[39m(\u001b[38;5;241m10\u001b[39m, \u001b[38;5;241m7\u001b[39m))\n\u001b[0;32m      8\u001b[0m \u001b[38;5;66;03m# Création des boxplots côte à côte\u001b[39;00m\n",
      "\u001b[1;31mNameError\u001b[0m: name 'liste_sentence' is not defined"
     ]
    }
   ],
   "source": [
    "boxplots = [liste_sentence, \n",
    "            # liste_figure_description, \n",
    "            liste_mlbcap_short, \n",
    "            liste_mlbcap_long]\n",
    "\n",
    "fig = plt.figure(figsize=(10, 7))\n",
    "\n",
    "# Création des boxplots côte à côte\n",
    "plt.boxplot(boxplots)\n",
    "\n",
    "# Optionnel : noms des catégories en x\n",
    "plt.xticks([1, 2, 3], ['paragraph',\n",
    "                        # 'figure_description',\n",
    "                        'mlbcap_short', \n",
    "                        'mlbcap_long'])\n",
    "\n",
    "# plt.title(\"Comparaison de la longueur de plusieurs caractéristiques\")\n",
    "plt.ylabel(\"longueurs\")\n",
    "plt.grid(True)\n",
    "plt.show()"
   ]
  },
  {
   "cell_type": "code",
   "execution_count": null,
   "metadata": {},
   "outputs": [
    {
     "data": {
      "image/png": "[encoded data removed]",
      "text/plain": [
       "<Figure size 1000x700 with 1 Axes>"
      ]
     },
     "metadata": {},
     "output_type": "display_data"
    }
   ],
   "source": [
    "boxplots = [liste_mlbcap_short, liste_mlbcap_long]\n",
    "\n",
    "fig = plt.figure(figsize=(10, 7))\n",
    "\n",
    "# Création des boxplots côte à côte\n",
    "plt.boxplot(boxplots)\n",
    "\n",
    "# Optionnel : noms des catégories en x\n",
    "plt.xticks([1, 2], ['mlbcap_short', 'mlbcap_long'])\n",
    "\n",
    "plt.ylabel(\"longueurs\")\n",
    "plt.grid(True)\n",
    "plt.show()"
   ]
  },
  {
   "cell_type": "markdown",
   "metadata": {},
   "source": [
    "Il ne semble pas pertinent d'utiliser 'description' qui semble bien trop long, il vaut mieux idéalement utiliser 'mlbcap_short'."
   ]
  },
  {
   "cell_type": "markdown",
   "metadata": {},
   "source": [
    "## CNN pour classifier les images"
   ]
  },
  {
   "cell_type": "markdown",
   "metadata": {},
   "source": [
    "### Préparations"
   ]
  },
  {
   "cell_type": "code",
   "execution_count": null,
   "metadata": {},
   "outputs": [],
   "source": [
    "# Si ton dataset est déjà chargé :\n",
    "dataset = data  \n",
    "\n",
    "# Encoder les catégories en entiers\n",
    "label_encoder = LabelEncoder()\n",
    "figure_types = ['Bar Chart', 'Equation', 'Graph Plot', 'Node Diagram', 'Scatterplot']\n",
    "label_encoder.fit(figure_types) \n",
    "dataset = dataset.map(lambda x: {'label': label_encoder.transform([x['figure_type']])[0]})\n"
   ]
  },
  {
   "cell_type": "code",
   "execution_count": null,
   "metadata": {},
   "outputs": [],
   "source": [
    "class CustomImageDataset(Dataset):\n",
    "    def __init__(self, hf_dataset, transform=None):\n",
    "        self.dataset = hf_dataset\n",
    "        self.transform = transform\n",
    "\n",
    "    def __len__(self):\n",
    "        return len(self.dataset)\n",
    "\n",
    "    def __getitem__(self, idx):\n",
    "        item = self.dataset[idx]\n",
    "        image = item[\"image\"]  # type: PIL.Image\n",
    "        label = item[\"label\"]\n",
    "        if self.transform:\n",
    "            image = self.transform(image)\n",
    "        return image, label\n"
   ]
  },
  {
   "cell_type": "code",
   "execution_count": null,
   "metadata": {},
   "outputs": [],
   "source": [
    "transform = transforms.Compose([\n",
    "    transforms.Resize((128, 128)),\n",
    "    transforms.ToTensor(),\n",
    "    transforms.Normalize(mean=[0.5], std=[0.5])  # ajuster si RGB\n",
    "])\n",
    "\n",
    "# Split train/test\n",
    "dataset = dataset.train_test_split(test_size=0.1)\n",
    "train_dataset = CustomImageDataset(dataset['train'], transform=transform)\n",
    "test_dataset = CustomImageDataset(dataset['test'], transform=transform)\n",
    "\n",
    "train_loader = DataLoader(train_dataset, batch_size=32, shuffle=True)\n",
    "test_loader = DataLoader(test_dataset, batch_size=32)\n"
   ]
  },
  {
   "cell_type": "markdown",
   "metadata": {},
   "source": [
    "### Construction du modèle"
   ]
  },
  {
   "cell_type": "markdown",
   "metadata": {},
   "source": [
    "C'est le modèle de base, si on souhaite en essayer un autre, il faut modifier cette classe et instancier 'no_new_model' à $True$. De même si on souhaite écraser l'ancien modèle avec le paramètre 'to_save'."
   ]
  },
  {
   "cell_type": "code",
   "execution_count": null,
   "metadata": {},
   "outputs": [],
   "source": [
    "no_new_model = True\n",
    "to_save = False"
   ]
  },
  {
   "cell_type": "code",
   "execution_count": null,
   "metadata": {},
   "outputs": [],
   "source": [
    "class SimpleCNN(nn.Module):\n",
    "    def __init__(self, num_classes):\n",
    "        super(SimpleCNN, self).__init__()\n",
    "        self.conv1 = nn.Conv2d(3, 16, 3, padding=1)\n",
    "        self.conv2 = nn.Conv2d(16, 32, 3, padding=1)\n",
    "        self.pool = nn.MaxPool2d(2, 2)\n",
    "        self.fc1 = nn.Linear(32 * 32 * 32, 128)\n",
    "        self.fc2 = nn.Linear(128, num_classes)\n",
    "\n",
    "    def forward(self, x):\n",
    "        x = self.pool(F.relu(self.conv1(x)))\n",
    "        x = self.pool(F.relu(self.conv2(x)))\n",
    "        x = x.view(-1, 32 * 32 * 32)\n",
    "        x = F.relu(self.fc1(x))\n",
    "        x = self.fc2(x)\n",
    "        return x\n"
   ]
  },
  {
   "cell_type": "code",
   "execution_count": null,
   "metadata": {},
   "outputs": [
    {
     "name": "stdout",
     "output_type": "stream",
     "text": [
      "on conserve l'ancien modèle\n"
     ]
    }
   ],
   "source": [
    "device = torch.device(\"cuda\" if torch.cuda.is_available() else \"cpu\")\n",
    "\n",
    "if no_new_model:\n",
    "    model = SimpleCNN(num_classes=len(label_encoder.classes_))\n",
    "    model.load_state_dict(torch.load(\"mon_modele.pth\"))\n",
    "    model.eval()\n",
    "    print(\"on conserve l'ancien modèle\")\n",
    "\n",
    "else:\n",
    "    model = SimpleCNN(num_classes=len(label_encoder.classes_)).to(device)\n",
    "    criterion = nn.CrossEntropyLoss()\n",
    "    optimizer = optim.Adam(model.parameters(), lr=0.001)\n",
    "    \n",
    "    print(\"on construit un nouveau modèle\")\n",
    "    for epoch in range(10):  # ou plus\n",
    "        model.train()\n",
    "        running_loss = 0.0\n",
    "        for inputs, labels in train_loader:\n",
    "            inputs, labels = inputs.to(device), labels.to(device)\n",
    "            \n",
    "            optimizer.zero_grad()\n",
    "            outputs = model(inputs)\n",
    "            loss = criterion(outputs, labels)\n",
    "            loss.backward()\n",
    "            optimizer.step()\n",
    "\n",
    "            running_loss += loss.item()\n",
    "        \n",
    "        print(f\"Epoch {epoch+1}, Loss: {running_loss:.4f}\")\n",
    "    \n"
   ]
  },
  {
   "cell_type": "markdown",
   "metadata": {},
   "source": [
    "### Evaluation du modèle"
   ]
  },
  {
   "cell_type": "code",
   "execution_count": null,
   "metadata": {},
   "outputs": [
    {
     "name": "stdout",
     "output_type": "stream",
     "text": [
      "Test Accuracy: 98.19%\n"
     ]
    }
   ],
   "source": [
    "model.eval()  # Mode évaluation\n",
    "correct = 0\n",
    "total = 0\n",
    "with torch.no_grad():  # Pas de calcul de gradients\n",
    "    for inputs, labels in test_loader:\n",
    "        inputs, labels = inputs.to(device), labels.to(device)\n",
    "        outputs = model(inputs)\n",
    "        _, predicted = torch.max(outputs, 1)\n",
    "        total += labels.size(0)\n",
    "        correct += (predicted == labels).sum().item()\n",
    "\n",
    "accuracy = 100 * correct / total\n",
    "print(f\"Test Accuracy: {accuracy:.2f}%\")\n"
   ]
  },
  {
   "cell_type": "markdown",
   "metadata": {},
   "source": [
    "On otient une excellente précision."
   ]
  },
  {
   "cell_type": "code",
   "execution_count": null,
   "metadata": {},
   "outputs": [
    {
     "name": "stdout",
     "output_type": "stream",
     "text": [
      "0\n"
     ]
    }
   ],
   "source": [
    "test_iter = iter(test_loader)\n",
    "inputs1, labels1 = next(test_iter)  \n",
    "\n",
    "\n",
    "with torch.no_grad():\n",
    "    outputs = model(inputs1)\n",
    "    _, predicted = torch.max(outputs, 1)\n",
    "\n",
    "failed = 0\n",
    "for i in range(32):\n",
    "    if predicted[i].item() != labels1[i].item():\n",
    "        failed +=1\n",
    "print(failed)\n",
    "    # print(f\"Exemple {i+1}: Prédit = {predicted[i].item()}, Vrai = {labels2[i].item()}, {predicted[i].item() == labels2[i].item()}\")\n"
   ]
  },
  {
   "cell_type": "markdown",
   "metadata": {},
   "source": [
    "Si on souhaite conserver le modèle que l'on vient de créer :"
   ]
  },
  {
   "cell_type": "code",
   "execution_count": null,
   "metadata": {},
   "outputs": [
    {
     "name": "stdout",
     "output_type": "stream",
     "text": [
      "On conserve l'ancien modèle\n"
     ]
    }
   ],
   "source": [
    "if to_save:\n",
    "    torch.save(model.state_dict(), \"mon_modele.pth\")\n",
    "    print(\"L'ancien modèle a été écrasé\")\n",
    "else:\n",
    "    print(\"On conserve l'ancien modèle\")"
   ]
  },
  {
   "cell_type": "markdown",
   "metadata": {},
   "source": [
    "## Réponses à des questions"
   ]
  },
  {
   "cell_type": "markdown",
   "metadata": {},
   "source": [
    "### Analyse des images"
   ]
  },
  {
   "cell_type": "code",
   "execution_count": null,
   "metadata": {},
   "outputs": [
    {
     "name": "stdout",
     "output_type": "stream",
     "text": [
      "[True, False, True, True, True, True, False, True, True, False]\n"
     ]
    }
   ],
   "source": [
    "a = ['Graph Plot']*len(dataset[\"train\"])\n",
    "idx_graph_plot = [dataset[\"train\"][\"figure_type\"][i] == a[i] for i in range(10)]\n",
    "\n",
    "print(idx_graph_plot)"
   ]
  },
  {
   "cell_type": "code",
   "execution_count": null,
   "metadata": {},
   "outputs": [
    {
     "name": "stdout",
     "output_type": "stream",
     "text": [
      "0\n",
      "2\n",
      "3\n",
      "4\n",
      "5\n",
      "7\n",
      "8\n"
     ]
    }
   ],
   "source": [
    "for i in range(len(idx_graph_plot)):\n",
    "    if idx_graph_plot[i]:\n",
    "        print(i)"
   ]
  },
  {
   "cell_type": "code",
   "execution_count": null,
   "metadata": {},
   "outputs": [
    {
     "name": "stdout",
     "output_type": "stream",
     "text": [
      "image: <PIL.PngImagePlugin.PngImageFile image mode=RGB size=1302x1181 at 0x1B2E8CA7D50>\n",
      "id: 511204080\n",
      "figure_type: Scatterplot\n",
      "ocr: [\"+\", \"lcculaticc\", \"chccc Crte -ee\"]\n",
      "paragraph: [\"Figure 3 shows the relationship between the signal and background noise with different mean photon numbers. It indicates that with a bigger relative photon number per pulse, the modulation signal is much higher than the background noise. We also draw the background noise distribution in Figure 3.\"]\n",
      "mention: [[\"Figure 3 shows the relationship between the signal and background noise with different mean photon numbers.\", \"We also draw the background noise distribution in Figure 3.\"]]\n",
      "figure_description: The scatterplot shows the relationship between the mean photon number per pulse and the absolute value of X_(Q). The x-axis represents the mean photon number per pulse, ranging from 0 to 8 × 10^-3. The y-axis represents the absolute value of X_(Q), ranging from 0 to 60. The plot includes a modulation signal represented by red stars connected with lines, with error bars indicating variability. Additionally, there is a green gradient density plot in the background, with a color bar on the left indicating density values from 0.00 to 1.00.\n",
      "mlbcap_long: Figure 3: The relationship between the modulation signal and background noise with different mean photon numbers. The background noise distribution is also shown. The signal is significantly higher than the background noise with increased mean photon numbers per pulse.\n",
      "mlbcap_short: Figure 3: The modulation signal is significantly higher than background noise with increased mean photon numbers per pulse. Background noise distribution is also shown.\n",
      "categories: quant-ph\n",
      "label: 4\n"
     ]
    }
   ],
   "source": [
    "idx = 9\n",
    "image = dataset['train'][idx]['image']\n",
    "for key, value in dataset['train'][idx].items():\n",
    "    print(f\"{key}: {value}\")\n",
    "image.show()"
   ]
  }
 ],
 "metadata": {
  "kernelspec": {
   "display_name": "Python 3",
   "language": "python",
   "name": "python3"
  },
  "language_info": {
   "codemirror_mode": {
    "name": "ipython",
    "version": 3
   },
   "file_extension": ".py",
   "mimetype": "text/x-python",
   "name": "python",
   "nbconvert_exporter": "python",
   "pygments_lexer": "ipython3",
   "version": "3.11.9"
  }
 },
 "nbformat": 4,
 "nbformat_minor": 2
}
