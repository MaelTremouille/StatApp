{
 "cells": [
  {
   "cell_type": "markdown",
   "metadata": {},
   "source": [
    "# Projet StatApp"
   ]
  },
  {
   "cell_type": "markdown",
   "metadata": {},
   "source": [
    "## Imports et requirements"
   ]
  },
  {
   "cell_type": "code",
   "execution_count": 1,
   "metadata": {},
   "outputs": [
    {
     "name": "stderr",
     "output_type": "stream",
     "text": [
      "C:\\Users\\trema\\AppData\\Local\\Packages\\PythonSoftwareFoundation.Python.3.11_qbz5n2kfra8p0\\LocalCache\\local-packages\\Python311\\site-packages\\tqdm\\auto.py:21: TqdmWarning: IProgress not found. Please update jupyter and ipywidgets. See https://ipywidgets.readthedocs.io/en/stable/user_install.html\n",
      "  from .autonotebook import tqdm as notebook_tqdm\n"
     ]
    }
   ],
   "source": [
    "from datasets import load_dataset\n",
    "import pickle\n",
    "import pandas as pd\n",
    "import sys\n",
    "import io\n",
    "import re\n",
    "import statistics as stats\n",
    "import matplotlib.pyplot as plt\n",
    "from PIL import Image\n",
    "from torch.utils.data import Dataset\n",
    "from torchvision import transforms\n",
    "from sklearn.preprocessing import LabelEncoder\n",
    "from torch.utils.data import DataLoader\n",
    "import torch\n",
    "import torch.optim as optim\n",
    "import torch.nn as nn\n",
    "import torch.nn.functional as F\n"
   ]
  },
  {
   "cell_type": "markdown",
   "metadata": {},
   "source": [
    "Forcer l'encodage en UTF-8 pour les caractères de l'alphabet grec."
   ]
  },
  {
   "cell_type": "code",
   "execution_count": 2,
   "metadata": {},
   "outputs": [],
   "source": [
    "# TODO problème à résoudre"
   ]
  },
  {
   "cell_type": "markdown",
   "metadata": {},
   "source": [
    "Stocker la BDD."
   ]
  },
  {
   "cell_type": "code",
   "execution_count": 3,
   "metadata": {},
   "outputs": [],
   "source": [
    "# ds = load_dataset(\"TEAMREBOOTT-AI/SciCap-MLBCAP\")"
   ]
  },
  {
   "cell_type": "markdown",
   "metadata": {},
   "source": [
    "Sauvegarder le dataset dans un fichier pickle"
   ]
  },
  {
   "cell_type": "code",
   "execution_count": 4,
   "metadata": {},
   "outputs": [],
   "source": [
    "# with open(\"dataset.pkl\", \"wb\") as f:\n",
    "#     pickle.dump(ds, f)"
   ]
  },
  {
   "cell_type": "markdown",
   "metadata": {},
   "source": [
    "Une fois cela fait, on ne travaille qu'à partir du dataset directement importé."
   ]
  },
  {
   "cell_type": "code",
   "execution_count": 5,
   "metadata": {},
   "outputs": [
    {
     "name": "stdout",
     "output_type": "stream",
     "text": [
      "Dataset({\n",
      "    features: ['image', 'id', 'figure_type', 'ocr', 'paragraph', 'mention', 'figure_description', 'mlbcap_long', 'mlbcap_short', 'categories'],\n",
      "    num_rows: 47639\n",
      "})\n"
     ]
    }
   ],
   "source": [
    "with open(\"dataset.pkl\", \"rb\") as f:\n",
    "    ds = pickle.load(f)\n",
    "\n",
    "data = ds[\"train\"]\n",
    "print(data)"
   ]
  },
  {
   "cell_type": "markdown",
   "metadata": {},
   "source": [
    "Il y a **47 639** observations."
   ]
  },
  {
   "cell_type": "markdown",
   "metadata": {},
   "source": [
    "Chargeons les données dans l'environnement."
   ]
  },
  {
   "cell_type": "code",
   "execution_count": 6,
   "metadata": {},
   "outputs": [],
   "source": [
    "# Récupérer l'image depuis l'ensemble de données\n"
   ]
  },
  {
   "cell_type": "markdown",
   "metadata": {},
   "source": [
    "Regardons de plus près une observation."
   ]
  },
  {
   "cell_type": "code",
   "execution_count": 7,
   "metadata": {},
   "outputs": [
    {
     "name": "stdout",
     "output_type": "stream",
     "text": [
      "image : <PIL.PngImagePlugin.PngImageFile image mode=RGB size=467x397 at 0x1FC57D2E410>\n",
      "----------\n",
      "id : 511159285\n",
      "----------\n",
      "figure_type : Graph Plot\n",
      "----------\n",
      "ocr : [\"0.009_\", \"DMnF\", \"DoMi\", \"Om \"]\n",
      "----------\n",
      "paragraph : [\"Initially, the 32 atoms stay at their equilibrium position. We set the initial velocity so that the left-most atom has a large velocity towards right and other atoms have equal velocity towards left. The mean velocity is equal to 0, so the center of mass does not move. Fig. 8 shows the trajectory of positions of the first three atom from the left. We observe that the results from TRBOMD agree very well with the BOMD results with convergent SCF iterations. Let us note that in the simulation, the left-most atom crosses over the second left-most atom. This happens since in our model, we have taken a 1D analog of Coulomb interaction and the nuclei background charges are smeared out, and hence the interaction is \\\"soft\\\" without hard-core repulsion. In Fig. 9, we plot the difference between \\u03c1 SCF and the converged electron density of the SCF iteration (denoted by \\u03c1 KS ) along the TRBOMD simulation. We see that the electron density used in TRBOMD stays close to the ground state electron density corresponds to the atom configuration.\", \"To proceed, we consider the scenario that \\u03c1(t, \\u03c4 ) is close to the ground state electron density corresponding to the current atom configuration \\u03c1 * (R(t)). We have seen from numerical examples (Fig. 9) that this is indeed the case for a good choice of SCF iteration, while we do not have a proof of this in the general case. Hence, we linearize the map \\u03c1 SCF .\"]\n",
      "----------\n",
      "mention : [[\"In Fig. 9, we plot the difference between \\u03c1 SCF and the converged electron density of the SCF iteration (denoted by \\u03c1 KS ) along the TRBOMD simulation.\"], [\"We have seen from numerical examples (Fig. 9) that this is indeed the case for a good choice of SCF iteration, while we do not have a proof of this in the general case.\"]]\n",
      "----------\n",
      "figure_description : The graph shows the L1 norm of the difference between ρ_SCF(t) and ρ_KS over time (t). The x-axis represents time (t) ranging from 0 to 500,000, and the y-axis represents the L1 norm of the difference, ranging from 0 to 0.012. The plot indicates fluctuations in the difference over time, with occasional peaks.\n",
      "----------\n",
      "mlbcap_long : Fig. 9. L1 norm of the difference between ρ_SCF and converged electron density ρ_KS over time in TRBOMD simulation. The plot demonstrates that the electron density in TRBOMD remains close to the ground state density corresponding to the atom configuration, validating the accuracy of the TRBOMD approach.\n",
      "----------\n",
      "mlbcap_short : Fig. 9. L1 norm of the difference between ρ_SCF and ρ_KS over time in TRBOMD simulation, showing electron density remains close to ground state, validating TRBOMD accuracy.\n",
      "----------\n",
      "categories : math.NA,physics.chem-ph,physics.comp-ph\n",
      "----------\n"
     ]
    }
   ],
   "source": [
    "for k in data[0]:\n",
    "    print(f\"{k} : {data[0][k]}\")\n",
    "    print('-'*10)\n",
    "\n",
    "image = data[0][\"image\"]\n",
    "image.show()"
   ]
  },
  {
   "cell_type": "markdown",
   "metadata": {},
   "source": [
    "## Statistiques descriptives de la BDD"
   ]
  },
  {
   "cell_type": "markdown",
   "metadata": {},
   "source": [
    "### Type de figure"
   ]
  },
  {
   "cell_type": "markdown",
   "metadata": {},
   "source": [
    "Intéressons nous au type de figure, c'est sur cela que nous allons commencer par faire des CNN. Ils donnent déjà de bonnes informations sur la figure et permettent ce cibler des questions."
   ]
  },
  {
   "cell_type": "code",
   "execution_count": 8,
   "metadata": {},
   "outputs": [
    {
     "data": {
      "image/png": "[encoded data removed]",
      "text/plain": [
       "<Figure size 640x480 with 1 Axes>"
      ]
     },
     "metadata": {},
     "output_type": "display_data"
    }
   ],
   "source": [
    "train_dataset = ds[\"train\"] \n",
    "figure_type = list(set(train_dataset[\"figure_type\"]))\n",
    "dict_fig_type = dict()\n",
    "for fig_type in figure_type:\n",
    "    dict_fig_type[fig_type] = 0\n",
    "for elt in train_dataset[\"figure_type\"]:\n",
    "    dict_fig_type[elt] += 1\n",
    "\n",
    "# On affiche un barplot pour voir la répartition\n",
    "plt.bar(range(len(dict_fig_type)), list(dict_fig_type.values()), align='center')\n",
    "plt.xticks(range(len(dict_fig_type)), list(dict_fig_type.keys()))\n",
    "plt.show()"
   ]
  },
  {
   "cell_type": "code",
   "execution_count": 9,
   "metadata": {},
   "outputs": [
    {
     "name": "stdout",
     "output_type": "stream",
     "text": [
      "{'Scatterplot': 4161, 'Node Diagram': 7215, 'Bar Chart': 3795, 'Graph Plot': 29276, 'Equation': 3192}\n"
     ]
    }
   ],
   "source": [
    "print(dict_fig_type)"
   ]
  },
  {
   "cell_type": "markdown",
   "metadata": {},
   "source": [
    "On remarque que les 'Graph Plots' sont largement sur-représentés."
   ]
  },
  {
   "cell_type": "code",
   "execution_count": 10,
   "metadata": {},
   "outputs": [
    {
     "name": "stdout",
     "output_type": "stream",
     "text": [
      "1441\n",
      "957\n",
      "2543\n",
      "739\n",
      "1321\n",
      "1356\n",
      "2690\n",
      "631\n",
      "1171\n",
      "1179\n"
     ]
    }
   ],
   "source": [
    "# stats(data['paragraph'])\n",
    "for i in range(10):\n",
    "    print(len(list(data['paragraph'])[i]))\n"
   ]
  },
  {
   "cell_type": "markdown",
   "metadata": {},
   "source": [
    "### informations"
   ]
  },
  {
   "cell_type": "markdown",
   "metadata": {},
   "source": [
    "Pour chaque observation, nous disposons de différentes caractéristiques :\n",
    "\n",
    "id <br>\n",
    "figure_type <br>\n",
    "ocr <br>\n",
    "paragraph <br>\n",
    "mention <br>\n",
    "figure_description <br>\n",
    "figure_description <br>\n",
    "mlbcap_long <br>\n",
    "mlbcap_short <br>\n",
    "categories <br>\n",
    "\n",
    "Il s'agit de chaines de caractères, on peut s'intéresser au nombre de mots qu'elles contiennent."
   ]
  },
  {
   "cell_type": "code",
   "execution_count": 12,
   "metadata": {},
   "outputs": [
    {
     "name": "stdout",
     "output_type": "stream",
     "text": [
      "0.0 %\n",
      "10.0 %\n",
      "20.0 %\n",
      "30.0 %\n",
      "40.0 %\n",
      "50.0 %\n",
      "60.0 %\n",
      "70.0 %\n",
      "80.0 %\n",
      "90.0 %\n"
     ]
    }
   ],
   "source": [
    "liste_sentence = []\n",
    "liste_mlbcap_short = []\n",
    "liste_mlbcap_long = []\n",
    "liste_figure_description = []\n",
    "\n",
    "for i in range(500): # sinon beaucoup trop long\n",
    "    paragraph = list(data['paragraph'])[i][2:-2]\n",
    "    mlbcap_long = list(data['mlbcap_long'])[i][2:-2]\n",
    "    mlbcap_short = list(data['mlbcap_short'])[i][2:-2]\n",
    "    # figure_description = list(data['figure_description'])[i][2:-2] NoneTypes issues\n",
    "    paragraph_splited = re.findall(r'\\w+', paragraph.lower())\n",
    "    mlbcap_long_splited = re.findall(r'\\w+', mlbcap_long.lower())\n",
    "    mlbcap_short_splited = re.findall(r'\\w+', mlbcap_short.lower())\n",
    "    figure_description_splited = re.findall(r'\\w+', mlbcap_short.lower())\n",
    "\n",
    "    # sentence_splited = sentence.split()\n",
    "    liste_sentence.append(len(paragraph_splited))\n",
    "    liste_mlbcap_long.append(len(mlbcap_long_splited))\n",
    "    liste_mlbcap_short.append(len(mlbcap_short_splited))\n",
    "    # liste_figure_description.append(len(figure_description_splited))\n",
    "    if i % 50 == 0:\n",
    "        print(f\"{100*i/500} %\")\n",
    "\n",
    "    "
   ]
  },
  {
   "cell_type": "code",
   "execution_count": 13,
   "metadata": {},
   "outputs": [
    {
     "data": {
      "image/png": "[encoded data removed]",
      "text/plain": [
       "<Figure size 1000x700 with 1 Axes>"
      ]
     },
     "metadata": {},
     "output_type": "display_data"
    }
   ],
   "source": [
    "boxplots = [liste_sentence, \n",
    "            # liste_figure_description, \n",
    "            liste_mlbcap_short, \n",
    "            liste_mlbcap_long]\n",
    "\n",
    "fig = plt.figure(figsize=(10, 7))\n",
    "\n",
    "# Création des boxplots côte à côte\n",
    "plt.boxplot(boxplots)\n",
    "\n",
    "# Optionnel : noms des catégories en x\n",
    "plt.xticks([1, 2, 3], ['sentence',\n",
    "                        # 'figure_description',\n",
    "                        'mlbcap_short', \n",
    "                        'mlbcap_long'])\n",
    "\n",
    "plt.title(\"Comparaison de la longueur de plusieurs caractéristiques\")\n",
    "plt.ylabel(\"longueurs\")\n",
    "plt.grid(True)\n",
    "plt.show()"
   ]
  },
  {
   "cell_type": "code",
   "execution_count": 14,
   "metadata": {},
   "outputs": [
    {
     "data": {
      "image/png": "[encoded data removed]",
      "text/plain": [
       "<Figure size 1000x700 with 1 Axes>"
      ]
     },
     "metadata": {},
     "output_type": "display_data"
    }
   ],
   "source": [
    "boxplots = [liste_mlbcap_short, liste_mlbcap_long]\n",
    "\n",
    "fig = plt.figure(figsize=(10, 7))\n",
    "\n",
    "# Création des boxplots côte à côte\n",
    "plt.boxplot(boxplots)\n",
    "\n",
    "# Optionnel : noms des catégories en x\n",
    "plt.xticks([1, 2], ['mlbcap_short', 'mlbcap_long'])\n",
    "\n",
    "plt.title(\"Comparaison de la longueur de plusieurs caractéristiques\")\n",
    "plt.ylabel(\"longueurs\")\n",
    "plt.grid(True)\n",
    "plt.show()"
   ]
  },
  {
   "cell_type": "markdown",
   "metadata": {},
   "source": [
    "Il ne semble pas pertinent d'utiliser 'description' qui semble bien trop long, il vaut mieux idéalement utiliser 'mlbcap_short'."
   ]
  },
  {
   "cell_type": "markdown",
   "metadata": {},
   "source": [
    "## CNN pour classifier les images"
   ]
  },
  {
   "cell_type": "markdown",
   "metadata": {},
   "source": [
    "### Préparations"
   ]
  },
  {
   "cell_type": "code",
   "execution_count": 15,
   "metadata": {},
   "outputs": [],
   "source": [
    "# Si ton dataset est déjà chargé :\n",
    "dataset = data  \n",
    "\n",
    "# Encoder les catégories en entiers\n",
    "label_encoder = LabelEncoder()\n",
    "figure_types = ['Bar Chart', 'Equation', 'Graph Plot', 'Node Diagram', 'Scatterplot']\n",
    "label_encoder.fit(figure_types) \n",
    "dataset = dataset.map(lambda x: {'label': label_encoder.transform([x['figure_type']])[0]})\n"
   ]
  },
  {
   "cell_type": "code",
   "execution_count": 16,
   "metadata": {},
   "outputs": [],
   "source": [
    "class CustomImageDataset(Dataset):\n",
    "    def __init__(self, hf_dataset, transform=None):\n",
    "        self.dataset = hf_dataset\n",
    "        self.transform = transform\n",
    "\n",
    "    def __len__(self):\n",
    "        return len(self.dataset)\n",
    "\n",
    "    def __getitem__(self, idx):\n",
    "        item = self.dataset[idx]\n",
    "        image = item[\"image\"]  # type: PIL.Image\n",
    "        label = item[\"label\"]\n",
    "        if self.transform:\n",
    "            image = self.transform(image)\n",
    "        return image, label\n"
   ]
  },
  {
   "cell_type": "code",
   "execution_count": 17,
   "metadata": {},
   "outputs": [],
   "source": [
    "transform = transforms.Compose([\n",
    "    transforms.Resize((128, 128)),\n",
    "    transforms.ToTensor(),\n",
    "    transforms.Normalize(mean=[0.5], std=[0.5])  # ajuster si RGB\n",
    "])\n",
    "\n",
    "# Split train/test\n",
    "dataset = dataset.train_test_split(test_size=0.1)\n",
    "train_dataset = CustomImageDataset(dataset['train'], transform=transform)\n",
    "test_dataset = CustomImageDataset(dataset['test'], transform=transform)\n",
    "\n",
    "train_loader = DataLoader(train_dataset, batch_size=32, shuffle=True)\n",
    "test_loader = DataLoader(test_dataset, batch_size=32)\n"
   ]
  },
  {
   "cell_type": "markdown",
   "metadata": {},
   "source": [
    "### Construction du modèle"
   ]
  },
  {
   "cell_type": "markdown",
   "metadata": {},
   "source": [
    "C'est le modèle de base, si on souhaite en essayer un autre, il faut modifier cette classe et instancier 'no_new_model' à $True$. De même si on souhaite écraser l'ancien modèle avec le paramètre 'to_save'."
   ]
  },
  {
   "cell_type": "code",
   "execution_count": 26,
   "metadata": {},
   "outputs": [],
   "source": [
    "no_new_model = True\n",
    "to_save = False"
   ]
  },
  {
   "cell_type": "code",
   "execution_count": 20,
   "metadata": {},
   "outputs": [],
   "source": [
    "class SimpleCNN(nn.Module):\n",
    "    def __init__(self, num_classes):\n",
    "        super(SimpleCNN, self).__init__()\n",
    "        self.conv1 = nn.Conv2d(3, 16, 3, padding=1)\n",
    "        self.conv2 = nn.Conv2d(16, 32, 3, padding=1)\n",
    "        self.pool = nn.MaxPool2d(2, 2)\n",
    "        self.fc1 = nn.Linear(32 * 32 * 32, 128)\n",
    "        self.fc2 = nn.Linear(128, num_classes)\n",
    "\n",
    "    def forward(self, x):\n",
    "        x = self.pool(F.relu(self.conv1(x)))\n",
    "        x = self.pool(F.relu(self.conv2(x)))\n",
    "        x = x.view(-1, 32 * 32 * 32)\n",
    "        x = F.relu(self.fc1(x))\n",
    "        x = self.fc2(x)\n",
    "        return x\n"
   ]
  },
  {
   "cell_type": "code",
   "execution_count": 23,
   "metadata": {},
   "outputs": [
    {
     "name": "stdout",
     "output_type": "stream",
     "text": [
      "on conserve l'ancien modèle\n"
     ]
    }
   ],
   "source": [
    "device = torch.device(\"cuda\" if torch.cuda.is_available() else \"cpu\")\n",
    "\n",
    "if no_new_model:\n",
    "    model = SimpleCNN(num_classes=len(label_encoder.classes_))\n",
    "    model.load_state_dict(torch.load(\"mon_modele.pth\"))\n",
    "    model.eval()\n",
    "    print(\"on conserve l'ancien modèle\")\n",
    "\n",
    "else:\n",
    "    model = SimpleCNN(num_classes=len(label_encoder.classes_)).to(device)\n",
    "    criterion = nn.CrossEntropyLoss()\n",
    "    optimizer = optim.Adam(model.parameters(), lr=0.001)\n",
    "    \n",
    "    print(\"on construit un nouveau modèle\")\n",
    "    for epoch in range(10):  # ou plus\n",
    "        model.train()\n",
    "        running_loss = 0.0\n",
    "        for inputs, labels in train_loader:\n",
    "            inputs, labels = inputs.to(device), labels.to(device)\n",
    "            \n",
    "            optimizer.zero_grad()\n",
    "            outputs = model(inputs)\n",
    "            loss = criterion(outputs, labels)\n",
    "            loss.backward()\n",
    "            optimizer.step()\n",
    "\n",
    "            running_loss += loss.item()\n",
    "        \n",
    "        print(f\"Epoch {epoch+1}, Loss: {running_loss:.4f}\")\n",
    "    \n"
   ]
  },
  {
   "cell_type": "markdown",
   "metadata": {},
   "source": [
    "### Evaluation du modèle"
   ]
  },
  {
   "cell_type": "code",
   "execution_count": 24,
   "metadata": {},
   "outputs": [
    {
     "name": "stdout",
     "output_type": "stream",
     "text": [
      "Test Accuracy: 98.51%\n"
     ]
    }
   ],
   "source": [
    "model.eval()  # Mode évaluation\n",
    "correct = 0\n",
    "total = 0\n",
    "with torch.no_grad():  # Pas de calcul de gradients\n",
    "    for inputs, labels in test_loader:\n",
    "        inputs, labels = inputs.to(device), labels.to(device)\n",
    "        outputs = model(inputs)\n",
    "        _, predicted = torch.max(outputs, 1)\n",
    "        total += labels.size(0)\n",
    "        correct += (predicted == labels).sum().item()\n",
    "\n",
    "accuracy = 100 * correct / total\n",
    "print(f\"Test Accuracy: {accuracy:.2f}%\")\n"
   ]
  },
  {
   "cell_type": "markdown",
   "metadata": {},
   "source": [
    "On otient une excellente précision."
   ]
  },
  {
   "cell_type": "code",
   "execution_count": 25,
   "metadata": {},
   "outputs": [
    {
     "name": "stdout",
     "output_type": "stream",
     "text": [
      "0\n"
     ]
    }
   ],
   "source": [
    "test_iter = iter(test_loader)\n",
    "inputs1, labels1 = next(test_iter)  \n",
    "\n",
    "\n",
    "with torch.no_grad():\n",
    "    outputs = model(inputs1)\n",
    "    _, predicted = torch.max(outputs, 1)\n",
    "\n",
    "failed = 0\n",
    "for i in range(32):\n",
    "    if predicted[i].item() != labels1[i].item():\n",
    "        failed +=1\n",
    "print(failed)\n",
    "    # print(f\"Exemple {i+1}: Prédit = {predicted[i].item()}, Vrai = {labels2[i].item()}, {predicted[i].item() == labels2[i].item()}\")\n"
   ]
  },
  {
   "cell_type": "markdown",
   "metadata": {},
   "source": [
    "Si on souhaite conserver le modèle que l'on vient de créer :"
   ]
  },
  {
   "cell_type": "code",
   "execution_count": 29,
   "metadata": {},
   "outputs": [
    {
     "name": "stdout",
     "output_type": "stream",
     "text": [
      "On conserve l'ancien modèle\n"
     ]
    }
   ],
   "source": [
    "if to_save:\n",
    "    torch.save(model.state_dict(), \"mon_modele.pth\")\n",
    "    print(\"L'ancien modèle a été écrasé\")\n",
    "else:\n",
    "    print(\"On conserve l'ancien modèle\")"
   ]
  },
  {
   "cell_type": "markdown",
   "metadata": {},
   "source": [
    "## Réponses à des questions"
   ]
  },
  {
   "cell_type": "markdown",
   "metadata": {},
   "source": [
    "### Analyse des images"
   ]
  },
  {
   "cell_type": "code",
   "execution_count": 30,
   "metadata": {},
   "outputs": [
    {
     "name": "stdout",
     "output_type": "stream",
     "text": [
      "[True, True, True, True, True, True, True, False, True, True]\n"
     ]
    }
   ],
   "source": [
    "a = ['Graph Plot']*len(dataset[\"train\"])\n",
    "idx_graph_plot = [dataset[\"train\"][\"figure_type\"][i] == a[i] for i in range(10)]\n",
    "\n",
    "print(idx_graph_plot)"
   ]
  },
  {
   "cell_type": "code",
   "execution_count": 31,
   "metadata": {},
   "outputs": [
    {
     "name": "stdout",
     "output_type": "stream",
     "text": [
      "0\n",
      "1\n",
      "2\n",
      "3\n",
      "4\n",
      "5\n",
      "6\n",
      "8\n",
      "9\n"
     ]
    }
   ],
   "source": [
    "for i in range(len(idx_graph_plot)):\n",
    "    if idx_graph_plot[i]:\n",
    "        print(i)"
   ]
  },
  {
   "cell_type": "code",
   "execution_count": 35,
   "metadata": {},
   "outputs": [
    {
     "name": "stdout",
     "output_type": "stream",
     "text": [
      "image: <PIL.PngImagePlugin.PngImageFile image mode=RGB size=527x243 at 0x1FCDB6E3CD0>\n",
      "id: 511181344\n",
      "figure_type: Graph Plot\n",
      "ocr: [\"DBQ (Ours)\", \"IHO 8\", \"UN;5h\", \"3681\", \"306b\", \"(251020\", \"UNQ 4\", \"RQ Sb\", \"Zx]3w\", \"3x]3\\\"\", \"4x lul\", \"Cpm qula ical Ccst [FAs]\"]\n",
      "paragraph: [\"In contrast, not much work has been done in model compression or quantization of lightweight networks and for a good reason -such networks are already irredundant leaving much less room for complexity reduction. Existing works [19,30,1,13,28] that quantize lightweight networks use fixed-point quantization with relatively high bitwidths (see Fig. 1) which offer limited reductions in complexity. In contrast, aggressive quantization schemes such as binarization [10,22] or ternarization [36,16] have been benchmarked on over-parameterized networks. In fact, ternarizing MobileNetV1 leads to a catastrophic drop in accuracy from 72.12% to 66.45% on ImageNet as we show in Section 4.3. In order to improve the performance of ternarized models while leveraging the simplicity of ternary-based arithmetic, one can construct a non-uniform quantizer as linear combinations of ternary values. Such formulation has already been proposed in the context of binarized neural networks [33,18], however the training algorithm involved is: 1) extremely inefficient to implement; 2) can lead to sub-optimal results due to gradient mismatch issues; and 3) has only been benchmarked on over-parameterized networks.\", \"To this end, our work is the first to tackle the daunting task of aggressively quantizing lightweight networks, such as MobileNetV1 [8], MobileNetV2 [27], and ShuffleNetV2 [20] using multiple ternary branches. We propose an efficient and fully differentiable multiple ternary branch quantization algorithm (DBQ). For MobileNetV1 on ImageNet, DBQ achieves an accuracy 2% higher than stateof-the art quantization methods with a complexity that is 3.5\\u00d7 lower as shown in Fig. 1. This represents an overall reduction of 24.5\\u00d7 compared to FP with a 1.2% drop in accuracy.\", \"Reducing DNN complexity via quantization has been an active area of research over the past few years. A majority of such works either train the quantized network from scratch [36,33,16,10,22,24] or fine-tune a pre-trained model with quantization-in-the-loop [13,19,30,32,1,35]. Where retraining is not an option, [25] provides analytical guarantees on the minimum precision requirements of a pre-trained FP network given a budget on the accuracy drop from FP. Training based quantization works fall into two classes of methods: 1) estimation based methods [33,18,16,30,13], where the full-precision weights and activations are quantized in the forward path, and gradients are back-propagated through a nondifferentiable quantizer function via a gradient estimator such as the Straight Through Estimator (STE) [2]; and 2) optimization based methods, where gradients flow directly from the full-precision weights to the cost function via an approximate differentiable quantizer [32,19,24], or by including an explicit quantization error term to the loss function [7,35]. Application of these methods can be categorized into three clusters: Aggressive Quantization: Methods such as binarization and ternarization have been highly successful for reducing DNN complexity. BinaryNets [10] quantize both weights and activations of DNNs to \\u00b11, while XNORNets [22] use a fullprecision scalar to represent binarized weights in order to improve accuracy. Ternary Weight Networks (TWN) [16] quantize weights to {\\u22121, 0, 1} and leverage the resulting weight sparsity due to the '0' state to skip operations. Trained Ternary Quantization (TTQ) [36] proposes learning the ternary scales via backprop. However, a major drawback of such methods is the resulting accuracy loss especially when applied to lightweight DNNs such as MobileNet. In Section 4.3, we show that ternarizing only the pointwise layers in MobileNetV1 on Imagenet, which correspond to \\u223c 94% of the total multiplication/additions (Table 1), incurs a massive accuracy loss (\\u223c 5.67%) compared to the full-precision baseline. Hence, such methods are typically benchmarked on simple datasets such as CIFAR-10, or use over parameterized models such as AlexNet [15] or ResNet-18 [6] on ImageNet. In contrast, our proposed DBQ method is able to aggressively quantize the lightweight MobileNetV1 architecture with minimal loss in Top-1 accuracy (Fig 1).\"]\n",
      "mention: [[\"Existing works [19,30,1,13,28] that quantize lightweight networks use fixed-point quantization with relatively high bitwidths (see Fig. 1) which offer limited reductions in complexity.\"], [\"For MobileNetV1 on ImageNet, DBQ achieves an accuracy 2% higher than stateof-the art quantization methods with a complexity that is 3.5\\u00d7 lower as shown in Fig. 1.\"], [\"In contrast, our proposed DBQ method is able to aggressively quantize the lightweight MobileNetV1 architecture with minimal loss in Top-1 accuracy (Fig 1).\"]]\n",
      "figure_description: The graph plots Top-1 Accuracy [%] against Computational Cost [FAs]. The desired region is shaded in light green. The DBQ (Ours) method, represented by a blue diamond, achieves the highest accuracy with the lowest computational cost. Other methods (RQ-5b, RQ-6b, UNIQ-4b, UNIQ-5b, IAO-8b) are represented by green shapes and show varying levels of accuracy and computational cost.\n",
      "mlbcap_long: Fig. 1. DBQ achieves superior Top-1 accuracy on ImageNet with significantly lower computational cost compared to other quantization methods. The graph shows DBQ (blue diamond) outperforming RQ-5b, RQ-6b, UNIQ-4b, UNIQ-5b, and IAO-8b (green shapes), demonstrating a 2% higher accuracy and 3.5× lower complexity than state-of-the-art methods.\n",
      "mlbcap_short: Fig. 1. DBQ achieves superior Top-1 accuracy on ImageNet with significantly lower computational cost compared to other quantization methods. DBQ (blue diamond) outperforms RQ-5b, RQ-6b, UNIQ-4b, UNIQ-5b, and IAO-8b (green shapes).\n",
      "categories: cs.CV,cs.LG,stat.ML\n",
      "label: 2\n"
     ]
    }
   ],
   "source": [
    "idx = 9\n",
    "image = dataset['train'][idx]['image']\n",
    "for key, value in dataset['train'][idx].items():\n",
    "    print(f\"{key}: {value}\")\n",
    "image.show()"
   ]
  }
 ],
 "metadata": {
  "kernelspec": {
   "display_name": "Python 3",
   "language": "python",
   "name": "python3"
  },
  "language_info": {
   "codemirror_mode": {
    "name": "ipython",
    "version": 3
   },
   "file_extension": ".py",
   "mimetype": "text/x-python",
   "name": "python",
   "nbconvert_exporter": "python",
   "pygments_lexer": "ipython3",
   "version": "3.11.9"
  }
 },
 "nbformat": 4,
 "nbformat_minor": 2
}
